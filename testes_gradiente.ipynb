{
 "cells": [
  {
   "cell_type": "markdown",
   "id": "9350fb55-0e3e-4603-a860-b164718495ad",
   "metadata": {},
   "source": [
    "# Testando o monitoramento do gradiente\n",
    "# Testing the gradient monitoring"
   ]
  },
  {
   "cell_type": "code",
   "execution_count": 3,
   "id": "05291758-b8d8-4035-8b62-940d539d7081",
   "metadata": {},
   "outputs": [],
   "source": [
    "import tensorflow as tf\n",
    "import numpy as np"
   ]
  },
  {
   "cell_type": "code",
   "execution_count": 8,
   "id": "8127b60a-5069-45e2-99b8-f8a733c7ab82",
   "metadata": {},
   "outputs": [
    {
     "name": "stdout",
     "output_type": "stream",
     "text": [
      "tf.Tensor(108.0, shape=(), dtype=float32)\n",
      "tf.Tensor(6.0, shape=(), dtype=float32)\n"
     ]
    }
   ],
   "source": [
    "x = tf.constant(3.0)\n",
    "\n",
    "with tf.GradientTape(persistent=True) as g:\n",
    "    g.watch(x)\n",
    "    y = x*x\n",
    "    z = y*y\n",
    "\n",
    "dz_dx = g.gradient(z, x)\n",
    "dy_dx = g.gradient(y, x)\n",
    "\n",
    "print(dz_dx)\n",
    "print(dy_dx)"
   ]
  },
  {
   "cell_type": "markdown",
   "id": "af62b862-b781-45a5-84a6-eebbec64db3a",
   "metadata": {},
   "source": [
    "### O gradiente do x² = 2x, gradiente do x^4 = 4x³, para x = 3 => dy/dx=2.3=6 => dz/dx=3.3³=4.27=108"
   ]
  },
  {
   "cell_type": "markdown",
   "id": "11fede63-84f7-405c-8b8c-640a6ef1b6e1",
   "metadata": {},
   "source": [
    "# Criando a estrutura de multiplicação de matrizes e observabilidade do gradiente"
   ]
  },
  {
   "cell_type": "markdown",
   "id": "903d9a4e-a44e-4685-a97f-263207a185c3",
   "metadata": {},
   "source": [
    "# Monitorando gradiente do Tensor P em relação ao tensor X e W"
   ]
  },
  {
   "cell_type": "code",
   "execution_count": 23,
   "id": "7c9086e1-673a-41ef-bd45-882043b275b7",
   "metadata": {},
   "outputs": [],
   "source": [
    "def product_tensor(X: tf.Tensor, W: tf.Tensor, B: tf.Tensor) -> tuple[tf.Tensor, tf.Tensor]:\n",
    "    with tf.GradientTape() as g:\n",
    "        g.watch(X)\n",
    "        # Compute P as the product of X and W\n",
    "        P = tf.expand_dims(X, axis=2) * tf.expand_dims(W, axis=0) + tf.expand_dims(B, axis=0)\n",
    "        P_numpy = P.numpy()\n",
    "    \n",
    "        O = tf.math.reduce_prod(P, axis = 1)\n",
    "        O_numpy = O.numpy()\n",
    "        \n",
    "        dO_dX = g.gradient(O, X)\n",
    "    \n",
    "    with tf.GradientTape() as g:\n",
    "        g.watch(W)\n",
    "        # Compute P as the product of X and W\n",
    "        P = tf.expand_dims(X, axis=2) * tf.expand_dims(W, axis=0) + tf.expand_dims(B, axis=0)\n",
    "        P_numpy = P.numpy()\n",
    "    \n",
    "        O = tf.math.reduce_prod(P, axis = 1)\n",
    "        O_numpy = O.numpy()\n",
    "        \n",
    "        dO_dW = g.gradient(O, W)\n",
    "\n",
    "    print(type(dO_dW))\n",
    "    \n",
    "    return dO_dX, dO_dW"
   ]
  },
  {
   "cell_type": "markdown",
   "id": "ddd1ef6c-c9a6-42ff-bf76-0f097a19f0c0",
   "metadata": {},
   "source": [
    "## Definindo número de variáveis de entrada X, e saidas P"
   ]
  },
  {
   "cell_type": "code",
   "execution_count": 24,
   "id": "5920f352-d81d-42cf-9fc6-89b442edfce6",
   "metadata": {},
   "outputs": [],
   "source": [
    "# Define the dimensions\n",
    "z = 3  # Number of variables in X\n",
    "n = 5  # Number of inputs in X\n",
    "k = 2  # Number of outputs in P"
   ]
  },
  {
   "cell_type": "markdown",
   "id": "fd70f1df-fc0b-4d30-87dd-74546a832789",
   "metadata": {},
   "source": [
    "## Inicializando variáveis de entrada X"
   ]
  },
  {
   "cell_type": "code",
   "execution_count": 25,
   "id": "19c3671b-9608-4d0d-8509-9f77fc369a2a",
   "metadata": {},
   "outputs": [],
   "source": [
    "x_array = np.array([[100, 200, 300, 100],\n",
    "                    [100, 300, 600, 100],\n",
    "                    [100, 100, 200, 100],\n",
    "                    [100, 300, 200, 100],\n",
    "                    [500, 100, 200, 100]])\n",
    "\n",
    "X = tf.convert_to_tensor(x_array, dtype=tf.float32)\n",
    "X_numpy = X.numpy()"
   ]
  },
  {
   "cell_type": "markdown",
   "id": "98adcc60-1c78-4aa8-bcdc-ed64a5a6b028",
   "metadata": {},
   "source": [
    "## Inicializando pesos da rede W"
   ]
  },
  {
   "cell_type": "code",
   "execution_count": 26,
   "id": "f162a9d7-01cd-4c19-a866-6822c2d933b3",
   "metadata": {},
   "outputs": [],
   "source": [
    "w_array = np.array([[1, 1],\n",
    "                    [0, 1],\n",
    "                    [1, 1],\n",
    "                    [1, 1],])\n",
    "\n",
    "W = tf.convert_to_tensor(w_array, dtype=tf.float32)\n",
    "W_numpy = W.numpy()"
   ]
  },
  {
   "cell_type": "markdown",
   "id": "05e5ff11-8d19-45cb-8b4d-a04be3f2f51e",
   "metadata": {},
   "source": [
    "## Inicializando pesos do viés B"
   ]
  },
  {
   "cell_type": "code",
   "execution_count": 27,
   "id": "61255a88-a55a-4278-a476-9dd8ac6e45ec",
   "metadata": {},
   "outputs": [],
   "source": [
    "b_array = np.array([[0, 0],\n",
    "                    [1, 0],\n",
    "                    [0, 0],\n",
    "                    [0, 0],])\n",
    "\n",
    "B = tf.convert_to_tensor(b_array, dtype=tf.float32)\n",
    "B_numpy = B.numpy()"
   ]
  },
  {
   "cell_type": "code",
   "execution_count": 33,
   "id": "ff5e8cf7-a9e9-4c7c-8f2c-5c52c8fb51fa",
   "metadata": {},
   "outputs": [
    {
     "name": "stdout",
     "output_type": "stream",
     "text": [
      "<class 'tensorflow.python.framework.ops.EagerTensor'>\n"
     ]
    },
    {
     "data": {
      "text/plain": [
       "(<tf.Tensor: shape=(5, 4), dtype=float32, numpy=\n",
       " array([[ 6030000.,  3000000.,  2010000.,  6030000.],\n",
       "        [18060000.,  6000000.,  3010000., 18060000.],\n",
       "        [ 2020000.,  2000000.,  1010000.,  2020000.],\n",
       "        [ 6020000.,  2000000.,  3010000.,  6020000.],\n",
       "        [ 2020000., 10000000.,  5050000., 10100000.]], dtype=float32)>,\n",
       " <tf.Tensor: shape=(4, 2), dtype=float32, numpy=\n",
       " array([[2.3e+07, 4.2e+09],\n",
       "        [4.2e+09, 4.2e+09],\n",
       "        [2.3e+07, 4.2e+09],\n",
       "        [2.3e+07, 4.2e+09]], dtype=float32)>)"
      ]
     },
     "execution_count": 33,
     "metadata": {},
     "output_type": "execute_result"
    }
   ],
   "source": [
    "product_tensor(X, W, B)"
   ]
  },
  {
   "cell_type": "code",
   "execution_count": 38,
   "id": "05c61641-1b43-432e-92f0-5e25e318d680",
   "metadata": {},
   "outputs": [],
   "source": [
    "def convert_arrays(x_array, w_array, b_array):\n",
    "    X = tf.convert_to_tensor(x_array, dtype=tf.float32)\n",
    "    W = tf.convert_to_tensor(w_array, dtype=tf.float32)\n",
    "    B = tf.convert_to_tensor(b_array, dtype=tf.float32)\n",
    "    X_numpy = X.numpy()\n",
    "    W_numpy = W.numpy()\n",
    "    B_numpy = B.numpy()\n",
    "    return X, W, B, X_numpy, W_numpy, B_numpy"
   ]
  },
  {
   "cell_type": "code",
   "execution_count": 40,
   "id": "37618bdd-6e7b-40ec-80c9-599ad156cbc6",
   "metadata": {},
   "outputs": [],
   "source": [
    "x_array = np.array([[100, 200, 300, 100],\n",
    "                    [100, 300, 600, 100],\n",
    "                    [100, 100, 200, 100],\n",
    "                    [100, 300, 200, 100],\n",
    "                    [500, 100, 200, 100]])\n",
    "w_array = np.array([[1, 1],\n",
    "                    [1, 1],\n",
    "                    [1, 1],\n",
    "                    [1, 1],])\n",
    "b_array = np.array([[0, 0],\n",
    "                    [0, 0],\n",
    "                    [0, 0],\n",
    "                    [0, 0],])\n",
    "X, W, B, X_numpy, W_numpy, B_numpy = convert_arrays(x_array, w_array, b_array)"
   ]
  },
  {
   "cell_type": "code",
   "execution_count": 41,
   "id": "516b097b-7666-4436-95ef-ce0ce5239293",
   "metadata": {},
   "outputs": [
    {
     "name": "stdout",
     "output_type": "stream",
     "text": [
      "<class 'tensorflow.python.framework.ops.EagerTensor'>\n"
     ]
    },
    {
     "data": {
      "text/plain": [
       "(<tf.Tensor: shape=(5, 4), dtype=float32, numpy=\n",
       " array([[12000000.,  6000000.,  4000000., 12000000.],\n",
       "        [36000000., 12000000.,  6000000., 36000000.],\n",
       "        [ 4000000.,  4000000.,  2000000.,  4000000.],\n",
       "        [12000000.,  4000000.,  6000000., 12000000.],\n",
       "        [ 4000000., 20000000., 10000000., 20000000.]], dtype=float32)>,\n",
       " <tf.Tensor: shape=(4, 2), dtype=float32, numpy=\n",
       " array([[4.2e+09, 4.2e+09],\n",
       "        [4.2e+09, 4.2e+09],\n",
       "        [4.2e+09, 4.2e+09],\n",
       "        [4.2e+09, 4.2e+09]], dtype=float32)>)"
      ]
     },
     "execution_count": 41,
     "metadata": {},
     "output_type": "execute_result"
    }
   ],
   "source": [
    "product_tensor(X, W, B)"
   ]
  },
  {
   "cell_type": "code",
   "execution_count": 29,
   "id": "e1674f6c-0013-4b55-b9e5-5f4a4e92c4bb",
   "metadata": {
    "scrolled": true
   },
   "outputs": [
    {
     "name": "stdout",
     "output_type": "stream",
     "text": [
      "X Variable:\n",
      "[[100. 200. 300. 100.]\n",
      " [100. 300. 600. 100.]\n",
      " [100. 100. 200. 100.]\n",
      " [100. 300. 200. 100.]\n",
      " [500. 100. 200. 100.]]\n",
      "W Variable:\n",
      "[[1. 1.]\n",
      " [0. 1.]\n",
      " [1. 1.]\n",
      " [1. 1.]]\n",
      "B Variable:\n",
      "[[0. 0.]\n",
      " [1. 0.]\n",
      " [0. 0.]\n",
      " [0. 0.]]\n",
      "d/dx\n",
      "tf.Tensor(\n",
      "[[ 6030000.  3000000.  2010000.  6030000.]\n",
      " [18060000.  6000000.  3010000. 18060000.]\n",
      " [ 2020000.  2000000.  1010000.  2020000.]\n",
      " [ 6020000.  2000000.  3010000.  6020000.]\n",
      " [ 2020000. 10000000.  5050000. 10100000.]], shape=(5, 4), dtype=float32)\n",
      "d/dw\n",
      "tf.Tensor(\n",
      "[[2.3e+07 4.2e+09]\n",
      " [4.2e+09 4.2e+09]\n",
      " [2.3e+07 4.2e+09]\n",
      " [2.3e+07 4.2e+09]], shape=(4, 2), dtype=float32)\n"
     ]
    }
   ],
   "source": [
    "print(\"X Variable:\")\n",
    "print(X_numpy)\n",
    "print(\"W Variable:\")\n",
    "print(W_numpy)\n",
    "print(\"B Variable:\")\n",
    "print(B_numpy)\n",
    "print(\"d/dx\")\n",
    "print(dO_dX)\n",
    "print(\"d/dw\")\n",
    "print(dO_dW)"
   ]
  },
  {
   "cell_type": "code",
   "execution_count": null,
   "id": "d165eb01-68d1-4694-bb8b-a46bceddec2a",
   "metadata": {},
   "outputs": [],
   "source": [
    "w_array = np.array([[1, 1],\n",
    "                    [-0.01, 1],\n",
    "                    [1, 1],\n",
    "                    [1, 1],])\n",
    "\n",
    "W = tf.convert_to_tensor(w_array, dtype=tf.float32)\n",
    "W_numpy = W.numpy()\n",
    "\n",
    "b_array = np.array([[0, 0],\n",
    "                    [0.99, 0],\n",
    "                    [0, 0],\n",
    "                    [0, 0],])\n",
    "\n",
    "B = tf.convert_to_tensor(b_array, dtype=tf.float32)\n",
    "B_numpy = B.numpy()"
   ]
  }
 ],
 "metadata": {
  "kernelspec": {
   "display_name": "Python 3 (ipykernel)",
   "language": "python",
   "name": "python3"
  },
  "language_info": {
   "codemirror_mode": {
    "name": "ipython",
    "version": 3
   },
   "file_extension": ".py",
   "mimetype": "text/x-python",
   "name": "python",
   "nbconvert_exporter": "python",
   "pygments_lexer": "ipython3",
   "version": "3.11.7"
  }
 },
 "nbformat": 4,
 "nbformat_minor": 5
}
